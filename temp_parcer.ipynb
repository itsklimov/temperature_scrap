{
 "cells": [
  {
   "cell_type": "markdown",
   "metadata": {},
   "source": [
    "# Libs"
   ]
  },
  {
   "cell_type": "code",
   "execution_count": 31,
   "metadata": {},
   "outputs": [],
   "source": [
    "import pytz\n",
    "import aiohttp\n",
    "import asyncio\n",
    "import csv\n",
    "from datetime import datetime, date, timedelta\n",
    "from bs4 import BeautifulSoup\n",
    "\n",
    "today = date.today()"
   ]
  },
  {
   "cell_type": "markdown",
   "metadata": {},
   "source": [
    "# Parameters"
   ]
  },
  {
   "cell_type": "code",
   "execution_count": 35,
   "metadata": {},
   "outputs": [],
   "source": [
    "start_date = date(2023, 7, 26) # yyyy, m, d or today\n",
    "end_date = today # or date(2023, 7, 26); yyyy, m, d\n",
    "timezone = pytz.timezone('America/Los_Angeles') # run import pytz and pytz.all_timezones to see all timezones\n",
    "temp_unit = 'F' # C for Celsius and F for Fahrenheit\n"
   ]
  },
  {
   "cell_type": "markdown",
   "metadata": {},
   "source": [
    "# url constructor"
   ]
  },
  {
   "cell_type": "code",
   "execution_count": 29,
   "metadata": {},
   "outputs": [],
   "source": [
    "def collect_dates(start_date, end_date, timezone):\n",
    "    start_datetime = timezone.localize(datetime.combine(start_date, datetime.min.time()))\n",
    "    end_datetime = timezone.localize(datetime.combine(end_date, datetime.min.time()))\n",
    "    delta = end_datetime - start_datetime\n",
    "    date_details_list = []\n",
    "    for i in range(delta.days + 1):\n",
    "        day = start_datetime + timedelta(days=i)\n",
    "        date_details = {\n",
    "            'year': day.year,\n",
    "            'month': day.month,\n",
    "            'month_name': day.strftime('%B'),\n",
    "            'day': day.day,\n",
    "            'day_of_week': day.strftime('%A'),\n",
    "            'iso_8601': day.isoformat()\n",
    "        }\n",
    "        date_details_list.append(date_details)\n",
    "    return date_details_list\n",
    "\n",
    "date_details_list = collect_dates(start_date, end_date, timezone)    \n",
    "\n",
    "url = 'https://weatherspark.com/h/d/145255/'\n",
    "urls = []\n",
    "for i in date_details_list:\n",
    "    \n",
    "    url_add = f\"{i['year']}/{i['month']}/{i['day']}/Historical-Weather-on-{i['day_of_week']}-{i['month_name']}-{i['day']}-{i['year']}-at-Hollister-Municipal-Airport-California-United-States\"\n",
    "    urls.append(url + url_add)"
   ]
  },
  {
   "cell_type": "markdown",
   "metadata": {},
   "source": [
    "# fetching urls"
   ]
  },
  {
   "cell_type": "code",
   "execution_count": 24,
   "metadata": {},
   "outputs": [],
   "source": [
    "\n",
    "async def fetch(session, url):\n",
    "    async with session.get(url) as response:\n",
    "        return await response.text()\n",
    "\n",
    "async def fetch_all(urls):\n",
    "    async with aiohttp.ClientSession() as session:\n",
    "        tasks = []\n",
    "        for url in urls:\n",
    "            tasks.append(fetch(session, url))\n",
    "        responses = await asyncio.gather(*tasks)\n",
    "        return responses\n",
    "\n",
    "html_list = await fetch_all(urls)"
   ]
  },
  {
   "cell_type": "markdown",
   "metadata": {},
   "source": [
    "# Parce HTMLs"
   ]
  },
  {
   "cell_type": "code",
   "execution_count": 26,
   "metadata": {},
   "outputs": [],
   "source": [
    "def parse_html(html, date_details, timezone):\n",
    "    # Parse the HTML with BeautifulSoup\n",
    "    soup = BeautifulSoup(html, 'html.parser')\n",
    "\n",
    "    # Find all elements with an ID that starts with 'metar'\n",
    "    elements = soup.select('[id^=metar]')\n",
    "\n",
    "    data_dicts = []\n",
    "\n",
    "    # Loop over each 'metar' element\n",
    "    for element in elements:\n",
    "        # Find all 'td' tags within the 'metar' element\n",
    "        tds = element.find_all('td')\n",
    "        \n",
    "        # Check if 'tds' has at least 3 elements\n",
    "        if len(tds) >= 3:\n",
    "            # Extract the text from the relevant 'td' tags and strip leading/trailing whitespace\n",
    "            time_str = tds[0].text.strip()\n",
    "            temp_str = tds[1].text.strip()\n",
    "            wind_str = tds[3].text.strip()\n",
    "\n",
    "            # Parse the time string and convert it to a datetime object\n",
    "            time_obj = datetime.strptime(time_str, '%I:%M %p').time()\n",
    "\n",
    "            # Parse the 'iso_8601' string from date_details and convert it to a datetime object\n",
    "            date_obj = datetime.fromisoformat(date_details['iso_8601'])\n",
    "\n",
    "            # Combine the date from date_obj and the time from time_obj\n",
    "            dt = datetime.combine(date_obj.date(), time_obj)\n",
    "\n",
    "            # Make the datetime object aware of the timezone\n",
    "            aware_dt = timezone.localize(dt)\n",
    "\n",
    "            # Convert the datetime object to ISO 8601 format\n",
    "            timestamp = aware_dt.isoformat()\n",
    "\n",
    "            # Split the temperature and wind strings to separate the value and units\n",
    "            temp, temp_units = temp_str.split('°')\n",
    "            temp_units = '°' + temp_units  # add back the degree symbol\n",
    "\n",
    "            # Check if temp_units is '°F', and if so, convert the temperature to Celsius\n",
    "            if temp_unit == 'C':\n",
    "                temp = round((float(temp) - 32) * 5/9)\n",
    "                temp_units = '°C'\n",
    "            else:\n",
    "                pass\n",
    "\n",
    "            wind, wind_units = wind_str.split(' ', 1)\n",
    "\n",
    "            # Create a dictionary with the extracted data\n",
    "            data_dict = {\n",
    "                'timestamp': timestamp,\n",
    "                'temp': temp,\n",
    "                'temp_units': temp_units,\n",
    "                'wind': wind,\n",
    "                'wind_units': wind_units\n",
    "            }\n",
    "\n",
    "            # Add the dictionary to the list\n",
    "            data_dicts.append(data_dict)\n",
    "\n",
    "    return data_dicts\n",
    "\n",
    "# Loop over each HTML string in html_list and parse it\n",
    "all_data = []\n",
    "for html, date_details in zip(html_list, date_details_list):\n",
    "    data_dicts = parse_html(html, date_details, timezone)\n",
    "    all_data.extend(data_dicts)"
   ]
  },
  {
   "cell_type": "markdown",
   "metadata": {},
   "source": [
    "# Exporting in CSV"
   ]
  },
  {
   "cell_type": "code",
   "execution_count": 36,
   "metadata": {},
   "outputs": [],
   "source": [
    "# Get the current date and time\n",
    "now = datetime.now()\n",
    "\n",
    "# Format the current date and time as a string\n",
    "now_str = now.strftime(\"%Y%m%d_%H%M\")\n",
    "\n",
    "# Generate the CSV file name using the current date and time\n",
    "csv_file_name = f\"{now_str}.csv\"\n",
    "\n",
    "# Specify the field names for the CSV\n",
    "fieldnames = ['timestamp', 'temp', 'temp_units', 'wind', 'wind_units']\n",
    "\n",
    "# Open the CSV file in write mode\n",
    "with open(csv_file_name, 'w', newline='') as csvfile:\n",
    "    # Create a CSV DictWriter\n",
    "    writer = csv.DictWriter(csvfile, fieldnames=fieldnames)\n",
    "\n",
    "    # Write the header\n",
    "    writer.writeheader()\n",
    "\n",
    "    # Write the rows\n",
    "    for data_dict in all_data:\n",
    "        writer.writerow(data_dict)"
   ]
  },
  {
   "cell_type": "code",
   "execution_count": null,
   "metadata": {},
   "outputs": [],
   "source": []
  }
 ],
 "metadata": {
  "kernelspec": {
   "display_name": "za_env",
   "language": "python",
   "name": "python3"
  },
  "language_info": {
   "codemirror_mode": {
    "name": "ipython",
    "version": 3
   },
   "file_extension": ".py",
   "mimetype": "text/x-python",
   "name": "python",
   "nbconvert_exporter": "python",
   "pygments_lexer": "ipython3",
   "version": "3.10.11"
  },
  "orig_nbformat": 4
 },
 "nbformat": 4,
 "nbformat_minor": 2
}
